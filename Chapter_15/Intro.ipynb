{
 "cells": [
  {
   "cell_type": "markdown",
   "metadata": {},
   "source": [
    "## Modeling Sequential Data Using Recurrent Neural Networks"
   ]
  },
  {
   "cell_type": "markdown",
   "metadata": {},
   "source": [
    "Sequential Data : The elements of the sequential data appears in a certain order and are not independent of each other.\n",
    "Time Series : Time series is a special type of sequential data where each example is associated with a dimension for time. Not all sequential has a time dimension. "
   ]
  },
  {
   "cell_type": "code",
   "execution_count": 1,
   "metadata": {},
   "outputs": [
    {
     "data": {
      "text/plain": [
       "<torch._C.Generator at 0x7e93a116ee30>"
      ]
     },
     "execution_count": 1,
     "metadata": {},
     "output_type": "execute_result"
    }
   ],
   "source": [
    "import torch\n",
    "import torch.nn as nn\n",
    "torch.manual_seed(1)"
   ]
  },
  {
   "cell_type": "code",
   "execution_count": 3,
   "metadata": {},
   "outputs": [
    {
     "name": "stdout",
     "output_type": "stream",
     "text": [
      "w_xh.shape=torch.Size([2, 5])\n",
      "w_hh.shape=torch.Size([2, 2])\n",
      "b_xh.shape=torch.Size([2])\n",
      "b_hh.shape=torch.Size([2])\n"
     ]
    }
   ],
   "source": [
    "rnn_layer = nn.RNN(input_size=5, hidden_size=2, num_layers=1, batch_first=True)\n",
    "w_xh = rnn_layer.weight_ih_l0\n",
    "w_hh = rnn_layer.weight_hh_l0\n",
    "b_xh = rnn_layer.bias_ih_l0\n",
    "b_hh = rnn_layer.bias_hh_l0\n",
    "\n",
    "print(f\"{w_xh.shape=}\")\n",
    "print(f\"{w_hh.shape=}\")\n",
    "print(f\"{b_xh.shape=}\")\n",
    "print(f\"{b_hh.shape=}\")\n",
    "\n"
   ]
  },
  {
   "cell_type": "code",
   "execution_count": 5,
   "metadata": {},
   "outputs": [
    {
     "name": "stdout",
     "output_type": "stream",
     "text": [
      "Time Step 0 => \n",
      "Input : [[1. 1. 1. 1. 1.]]\n",
      "Hidden : [[ 0.49598834 -0.336145  ]]\n",
      "OutPut (manual):  [[-0.17452951 -0.58969957]]\n",
      "RNN output: [[-0.17452948 -0.58969957]]\n",
      "\n",
      "Time Step 1 => \n",
      "Input : [[2. 2. 2. 2. 2.]]\n",
      "Hidden : [[ 0.5252439  -0.02801841]]\n",
      "OutPut (manual):  [[-0.27746493 -0.6635246 ]]\n",
      "RNN output: [[-0.2774648 -0.6635246]]\n",
      "\n",
      "Time Step 2 => \n",
      "Input : [[3. 3. 3. 3. 3.]]\n",
      "Hidden : [[0.5544994 0.2801082]]\n",
      "OutPut (manual):  [[-0.21354881 -0.508577  ]]\n",
      "RNN output: [[-0.21354884 -0.508577  ]]\n",
      "\n"
     ]
    }
   ],
   "source": [
    "x_seq = torch.tensor([[1.0]*5, [2.0]*5,[3.0]*5]).float()\n",
    "\n",
    "# output of the simple RNN\n",
    "output, hn = rnn_layer(torch.reshape(x_seq, (1,3,5)))\n",
    "# manually computing the output:\n",
    "\n",
    "output_man = []\n",
    "for t in range(3):\n",
    "\txt = torch.reshape(x_seq[t], (1,5))\n",
    "\tprint(f\"Time Step {t} => \")\n",
    "\tprint(\"Input :\", xt.numpy())\n",
    "\n",
    "\tht = torch.matmul(xt, torch.transpose(w_xh, 0, 1)) + b_xh\n",
    "\tprint(\"Hidden :\", ht.detach().numpy())\n",
    "\n",
    "\tif t>0:\n",
    "\t\tprev_h = output_man[t-1]\n",
    "\telse:\n",
    "\t\tprev_h = torch.zeros((ht.shape))\n",
    "\n",
    "\tot = ht + torch.matmul(prev_h, torch.transpose(w_hh, 0, 1)) + b_hh\n",
    "\tot = torch.tanh(ot)\n",
    "\toutput_man.append(ot)\n",
    "\tprint(\"OutPut (manual): \", ot.detach().numpy())\n",
    "\tprint(\"RNN output:\", output[:, t].detach().numpy())\n",
    "\tprint()\n"
   ]
  },
  {
   "cell_type": "code",
   "execution_count": null,
   "metadata": {},
   "outputs": [],
   "source": []
  }
 ],
 "metadata": {
  "kernelspec": {
   "display_name": ".venv",
   "language": "python",
   "name": "python3"
  },
  "language_info": {
   "codemirror_mode": {
    "name": "ipython",
    "version": 3
   },
   "file_extension": ".py",
   "mimetype": "text/x-python",
   "name": "python",
   "nbconvert_exporter": "python",
   "pygments_lexer": "ipython3",
   "version": "3.10.12"
  }
 },
 "nbformat": 4,
 "nbformat_minor": 2
}
