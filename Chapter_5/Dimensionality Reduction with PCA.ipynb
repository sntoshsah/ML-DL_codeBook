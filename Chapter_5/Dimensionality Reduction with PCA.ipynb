{
 "cells": [
  {
   "cell_type": "markdown",
   "metadata": {},
   "source": [
    "* PCA(Principal Component Analysis) for Unsupervised data Compression\n",
    "* LDA (Linear discriminant Analysis) for supervised dimensonality reduction"
   ]
  },
  {
   "cell_type": "markdown",
   "metadata": {},
   "source": [
    "## Extracting PCA step by step\n",
    "1. Standarizing the data\n",
    "2. Constructing the covarience matrix\n",
    "3. Obtaining the eigen values and eigen vectors\n",
    "4. Sorting the eigenvalues by decreasing order to rank the eigenvectors."
   ]
  },
  {
   "cell_type": "code",
   "execution_count": 1,
   "metadata": {},
   "outputs": [],
   "source": [
    "# import pandas as pd\n",
    "# df_wine = pd.read_csv('https://archive.ics.uci.edu/ml/machine-learning-databases/wine/wine.data', header=None)\n",
    "# # df_wine.to_csv('Wine_dataset.csv')"
   ]
  },
  {
   "cell_type": "code",
   "execution_count": 2,
   "metadata": {},
   "outputs": [
    {
     "data": {
      "text/html": [
       "<div>\n",
       "<style scoped>\n",
       "    .dataframe tbody tr th:only-of-type {\n",
       "        vertical-align: middle;\n",
       "    }\n",
       "\n",
       "    .dataframe tbody tr th {\n",
       "        vertical-align: top;\n",
       "    }\n",
       "\n",
       "    .dataframe thead th {\n",
       "        text-align: right;\n",
       "    }\n",
       "</style>\n",
       "<table border=\"1\" class=\"dataframe\">\n",
       "  <thead>\n",
       "    <tr style=\"text-align: right;\">\n",
       "      <th></th>\n",
       "      <th>1</th>\n",
       "      <th>14.23</th>\n",
       "      <th>1.71</th>\n",
       "      <th>2.43</th>\n",
       "      <th>15.6</th>\n",
       "      <th>127</th>\n",
       "      <th>2.8</th>\n",
       "      <th>3.06</th>\n",
       "      <th>.28</th>\n",
       "      <th>2.29</th>\n",
       "      <th>5.64</th>\n",
       "      <th>1.04</th>\n",
       "      <th>3.92</th>\n",
       "      <th>1065</th>\n",
       "    </tr>\n",
       "  </thead>\n",
       "  <tbody>\n",
       "    <tr>\n",
       "      <th>0</th>\n",
       "      <td>1</td>\n",
       "      <td>13.20</td>\n",
       "      <td>1.78</td>\n",
       "      <td>2.14</td>\n",
       "      <td>11.2</td>\n",
       "      <td>100</td>\n",
       "      <td>2.65</td>\n",
       "      <td>2.76</td>\n",
       "      <td>0.26</td>\n",
       "      <td>1.28</td>\n",
       "      <td>4.38</td>\n",
       "      <td>1.05</td>\n",
       "      <td>3.40</td>\n",
       "      <td>1050</td>\n",
       "    </tr>\n",
       "    <tr>\n",
       "      <th>1</th>\n",
       "      <td>1</td>\n",
       "      <td>13.16</td>\n",
       "      <td>2.36</td>\n",
       "      <td>2.67</td>\n",
       "      <td>18.6</td>\n",
       "      <td>101</td>\n",
       "      <td>2.80</td>\n",
       "      <td>3.24</td>\n",
       "      <td>0.30</td>\n",
       "      <td>2.81</td>\n",
       "      <td>5.68</td>\n",
       "      <td>1.03</td>\n",
       "      <td>3.17</td>\n",
       "      <td>1185</td>\n",
       "    </tr>\n",
       "    <tr>\n",
       "      <th>2</th>\n",
       "      <td>1</td>\n",
       "      <td>14.37</td>\n",
       "      <td>1.95</td>\n",
       "      <td>2.50</td>\n",
       "      <td>16.8</td>\n",
       "      <td>113</td>\n",
       "      <td>3.85</td>\n",
       "      <td>3.49</td>\n",
       "      <td>0.24</td>\n",
       "      <td>2.18</td>\n",
       "      <td>7.80</td>\n",
       "      <td>0.86</td>\n",
       "      <td>3.45</td>\n",
       "      <td>1480</td>\n",
       "    </tr>\n",
       "    <tr>\n",
       "      <th>3</th>\n",
       "      <td>1</td>\n",
       "      <td>13.24</td>\n",
       "      <td>2.59</td>\n",
       "      <td>2.87</td>\n",
       "      <td>21.0</td>\n",
       "      <td>118</td>\n",
       "      <td>2.80</td>\n",
       "      <td>2.69</td>\n",
       "      <td>0.39</td>\n",
       "      <td>1.82</td>\n",
       "      <td>4.32</td>\n",
       "      <td>1.04</td>\n",
       "      <td>2.93</td>\n",
       "      <td>735</td>\n",
       "    </tr>\n",
       "    <tr>\n",
       "      <th>4</th>\n",
       "      <td>1</td>\n",
       "      <td>14.20</td>\n",
       "      <td>1.76</td>\n",
       "      <td>2.45</td>\n",
       "      <td>15.2</td>\n",
       "      <td>112</td>\n",
       "      <td>3.27</td>\n",
       "      <td>3.39</td>\n",
       "      <td>0.34</td>\n",
       "      <td>1.97</td>\n",
       "      <td>6.75</td>\n",
       "      <td>1.05</td>\n",
       "      <td>2.85</td>\n",
       "      <td>1450</td>\n",
       "    </tr>\n",
       "  </tbody>\n",
       "</table>\n",
       "</div>"
      ],
      "text/plain": [
       "   1  14.23  1.71  2.43  15.6  127   2.8  3.06   .28  2.29  5.64  1.04  3.92  \\\n",
       "0  1  13.20  1.78  2.14  11.2  100  2.65  2.76  0.26  1.28  4.38  1.05  3.40   \n",
       "1  1  13.16  2.36  2.67  18.6  101  2.80  3.24  0.30  2.81  5.68  1.03  3.17   \n",
       "2  1  14.37  1.95  2.50  16.8  113  3.85  3.49  0.24  2.18  7.80  0.86  3.45   \n",
       "3  1  13.24  2.59  2.87  21.0  118  2.80  2.69  0.39  1.82  4.32  1.04  2.93   \n",
       "4  1  14.20  1.76  2.45  15.2  112  3.27  3.39  0.34  1.97  6.75  1.05  2.85   \n",
       "\n",
       "   1065  \n",
       "0  1050  \n",
       "1  1185  \n",
       "2  1480  \n",
       "3   735  \n",
       "4  1450  "
      ]
     },
     "execution_count": 2,
     "metadata": {},
     "output_type": "execute_result"
    }
   ],
   "source": [
    "import pandas as pd\n",
    "df_wine = pd.read_csv(\"Wine_dataset.csv\")\n",
    "df_wine.head()"
   ]
  },
  {
   "cell_type": "code",
   "execution_count": 3,
   "metadata": {},
   "outputs": [
    {
     "name": "stdout",
     "output_type": "stream",
     "text": [
      "(177, 14)\n"
     ]
    }
   ],
   "source": [
    "print(df_wine.shape)"
   ]
  },
  {
   "cell_type": "code",
   "execution_count": 4,
   "metadata": {},
   "outputs": [
    {
     "name": "stdout",
     "output_type": "stream",
     "text": [
      "Index(['1', '14.23', '1.71', '2.43', '15.6', '127', '2.8', '3.06', '.28',\n",
      "       '2.29', '5.64', '1.04', '3.92', '1065'],\n",
      "      dtype='object')\n"
     ]
    }
   ],
   "source": [
    "print(df_wine.columns)"
   ]
  },
  {
   "cell_type": "code",
   "execution_count": 5,
   "metadata": {},
   "outputs": [],
   "source": [
    "## Preprocessing of dataset\n",
    "from sklearn.model_selection import train_test_split\n",
    "X, y = df_wine.iloc[:,1:].values, df_wine.iloc[:,0].values\n"
   ]
  },
  {
   "cell_type": "code",
   "execution_count": 7,
   "metadata": {},
   "outputs": [
    {
     "name": "stdout",
     "output_type": "stream",
     "text": [
      "[1 2 3]\n"
     ]
    }
   ],
   "source": [
    "# Classes\n",
    "import numpy as np\n",
    "print(np.unique(y))"
   ]
  },
  {
   "cell_type": "code",
   "execution_count": 8,
   "metadata": {},
   "outputs": [],
   "source": [
    "X_train, X_test, y_train, y_test = train_test_split(X,y, test_size=0.3, stratify=y,random_state=0)"
   ]
  },
  {
   "cell_type": "code",
   "execution_count": 9,
   "metadata": {},
   "outputs": [],
   "source": [
    "# Standarize the Features\n",
    "from sklearn.preprocessing import StandardScaler\n",
    "sc = StandardScaler()\n",
    "X_train_std = sc.fit_transform(X_train)\n",
    "X_test_std = sc.fit_transform(X_test)"
   ]
  },
  {
   "cell_type": "code",
   "execution_count": 10,
   "metadata": {},
   "outputs": [
    {
     "data": {
      "text/plain": [
       "(123, 13)"
      ]
     },
     "execution_count": 10,
     "metadata": {},
     "output_type": "execute_result"
    }
   ],
   "source": [
    "X_train_std.shape"
   ]
  },
  {
   "cell_type": "markdown",
   "metadata": {},
   "source": [
    "# Constructing Covarience matrix"
   ]
  },
  {
   "cell_type": "code",
   "execution_count": 11,
   "metadata": {},
   "outputs": [
    {
     "data": {
      "text/plain": [
       "array([[ 1.00819672,  0.08110102,  0.18852898, -0.35369039,  0.24381376,\n",
       "         0.26763138,  0.17967185, -0.08636527,  0.0482326 ,  0.56500893,\n",
       "         0.00958933, -0.03401656,  0.64929621],\n",
       "       [ 0.08110102,  1.00819672,  0.10975803,  0.29047848, -0.07541234,\n",
       "        -0.32037575, -0.39698304,  0.31836703, -0.19529013,  0.16812949,\n",
       "        -0.54636025, -0.38865331, -0.24505469],\n",
       "       [ 0.18852898,  0.10975803,  1.00819672,  0.41759721,  0.25711659,\n",
       "         0.15331893,  0.12547461,  0.15413905, -0.04283556,  0.23948347,\n",
       "        -0.01955895, -0.00569682,  0.21533057],\n",
       "       [-0.35369039,  0.29047848,  0.41759721,  1.00819672, -0.18262105,\n",
       "        -0.33748501, -0.35474679,  0.39748523, -0.23558146, -0.06253006,\n",
       "        -0.28229948, -0.24658967, -0.53193867],\n",
       "       [ 0.24381376, -0.07541234,  0.25711659, -0.18262105,  1.00819672,\n",
       "         0.20603669,  0.1743739 , -0.23529039,  0.17900904,  0.24764492,\n",
       "         0.07611849, -0.02894926,  0.41302773],\n",
       "       [ 0.26763138, -0.32037575,  0.15331893, -0.33748501,  0.20603669,\n",
       "         1.00819672,  0.86679841, -0.44688758,  0.60932051, -0.03563869,\n",
       "         0.47149203,  0.71451634,  0.52972628],\n",
       "       [ 0.17967185, -0.39698304,  0.12547461, -0.35474679,  0.1743739 ,\n",
       "         0.86679841,  1.00819672, -0.5619773 ,  0.62534363, -0.15435994,\n",
       "         0.58535482,  0.79658018,  0.51024821],\n",
       "       [-0.08636527,  0.31836703,  0.15413905,  0.39748523, -0.23529039,\n",
       "        -0.44688758, -0.5619773 ,  1.00819672, -0.40656361,  0.19498494,\n",
       "        -0.35323715, -0.60099735, -0.33224912],\n",
       "       [ 0.0482326 , -0.19529013, -0.04283556, -0.23558146,  0.17900904,\n",
       "         0.60932051,  0.62534363, -0.40656361,  1.00819672, -0.00826585,\n",
       "         0.28591213,  0.50902206,  0.29203205],\n",
       "       [ 0.56500893,  0.16812949,  0.23948347, -0.06253006,  0.24764492,\n",
       "        -0.03563869, -0.15435994,  0.19498494, -0.00826585,  1.00819672,\n",
       "        -0.45992153, -0.44715289,  0.34221564],\n",
       "       [ 0.00958933, -0.54636025, -0.01955895, -0.28229948,  0.07611849,\n",
       "         0.47149203,  0.58535482, -0.35323715,  0.28591213, -0.45992153,\n",
       "         1.00819672,  0.61762603,  0.3214005 ],\n",
       "       [-0.03401656, -0.38865331, -0.00569682, -0.24658967, -0.02894926,\n",
       "         0.71451634,  0.79658018, -0.60099735,  0.50902206, -0.44715289,\n",
       "         0.61762603,  1.00819672,  0.27616472],\n",
       "       [ 0.64929621, -0.24505469,  0.21533057, -0.53193867,  0.41302773,\n",
       "         0.52972628,  0.51024821, -0.33224912,  0.29203205,  0.34221564,\n",
       "         0.3214005 ,  0.27616472,  1.00819672]])"
      ]
     },
     "execution_count": 11,
     "metadata": {},
     "output_type": "execute_result"
    }
   ],
   "source": [
    "import numpy as np\n",
    "cov_mat = np.cov(X_train_std.T)\n",
    "cov_mat"
   ]
  },
  {
   "cell_type": "markdown",
   "metadata": {},
   "source": [
    "## Eigen Decomposition\n",
    "Eigenvectors of the covarience matrix represents the principlr components whereas the corresponding eigenvalues will define their magnitude.\n",
    "Eigenvector v satisfies the following condition:\n",
    "$ \\sum v = \\lambda v  $\n",
    "\n",
    "here $\\sum $ is the covarience matrix, not the summation"
   ]
  },
  {
   "cell_type": "code",
   "execution_count": 12,
   "metadata": {},
   "outputs": [
    {
     "name": "stdout",
     "output_type": "stream",
     "text": [
      "eigen_vals = array([4.79500219, 2.50003078, 1.44306678, 0.99901271, 0.87517717,\n",
      "       0.67821564, 0.53031813, 0.35080209, 0.28446498, 0.11333093,\n",
      "       0.14810971, 0.18968162, 0.19934466])\n",
      "\n",
      "eigen_vecs = array([[ 0.12221148, -0.49927666,  0.12829383,  0.01136017,  0.35962533,\n",
      "        -0.23048312, -0.04714035,  0.39450917, -0.37873538,  0.10409129,\n",
      "        -0.07349869,  0.45755259, -0.09926907],\n",
      "       [-0.24391049, -0.15419073, -0.1337824 , -0.54699739,  0.01698596,\n",
      "        -0.60977103,  0.35388209,  0.03230253,  0.07247366, -0.03035566,\n",
      "         0.05093259, -0.29983979, -0.05071359],\n",
      "       [ 0.00369454, -0.25170137, -0.68792836,  0.23900517,  0.05336737,\n",
      "        -0.09514094, -0.13810458, -0.11452347,  0.42213357, -0.08005053,\n",
      "        -0.03823149,  0.18581102, -0.37627553],\n",
      "       [-0.249647  ,  0.12269609, -0.59377246, -0.00821015, -0.0239095 ,\n",
      "         0.08118367, -0.20497479,  0.38757845, -0.33788462,  0.0565922 ,\n",
      "        -0.06769449, -0.12717355,  0.48215182],\n",
      "       [ 0.13011026, -0.31420427, -0.08497154,  0.2395333 , -0.78023056,\n",
      "        -0.09478221,  0.28258535, -0.07484282, -0.29483288,  0.05231238,\n",
      "         0.14339912,  0.07323052,  0.03102063],\n",
      "       [ 0.39099441, -0.05595656, -0.19268611, -0.19038516,  0.14478068,\n",
      "         0.08777222,  0.09820019, -0.39221599, -0.37290376, -0.53850843,\n",
      "        -0.37707533, -0.06214601,  0.0581313 ],\n",
      "       [ 0.41649235,  0.02637354, -0.17557319, -0.12710511,  0.09809546,\n",
      "         0.02399015,  0.00157734, -0.21330841, -0.10814667,  0.7933956 ,\n",
      "        -0.15502733, -0.22468051, -0.0864211 ],\n",
      "       [-0.31569983, -0.07362469, -0.14144693,  0.14397781,  0.3623129 ,\n",
      "         0.34996396,  0.66135648, -0.23189151, -0.10113392,  0.12389145,\n",
      "         0.23098643,  0.14560588,  0.09556013],\n",
      "       [ 0.2982478 ,  0.01094724, -0.10831831, -0.50797474, -0.19387822,\n",
      "         0.44672728,  0.26286453,  0.43379869,  0.2907922 , -0.03543909,\n",
      "        -0.01726654,  0.24245459, -0.04272858],\n",
      "       [-0.07304049, -0.53961007,  0.04566347, -0.12906415,  0.04960602,\n",
      "         0.41216773, -0.26596722,  0.029185  , -0.10312288, -0.08223035,\n",
      "         0.33536197, -0.51955629, -0.20250302],\n",
      "       [ 0.31641846,  0.21061646, -0.03375899,  0.4398643 ,  0.15537495,\n",
      "        -0.09171275,  0.34939097,  0.47115093, -0.03714341, -0.1539475 ,\n",
      "         0.02172227, -0.44167755, -0.25230846],\n",
      "       [ 0.37253046,  0.23649287, -0.15215839, -0.11987325,  0.12791144,\n",
      "        -0.18082623, -0.13830236, -0.10069926, -0.10767923, -0.09560296,\n",
      "         0.79530351,  0.16577842,  0.09337111],\n",
      "       [ 0.29514562, -0.38598117,  0.08087437,  0.17441276,  0.12567652,\n",
      "        -0.09549583,  0.05938995, -0.01098965,  0.45040873, -0.01488871,\n",
      "        -0.00877459, -0.13360808,  0.69091775]])\n"
     ]
    }
   ],
   "source": [
    "eigen_vals, eigen_vecs = np.linalg.eig(cov_mat)\n",
    "print(f\"{eigen_vals = }\\n\")\n",
    "print(f\"{eigen_vecs = }\")"
   ]
  },
  {
   "cell_type": "code",
   "execution_count": 13,
   "metadata": {},
   "outputs": [
    {
     "name": "stdout",
     "output_type": "stream",
     "text": [
      "13\n",
      "(13,)\n",
      "13\n",
      "(13, 13)\n"
     ]
    }
   ],
   "source": [
    "print(len(eigen_vals))\n",
    "print(eigen_vals.shape)\n",
    "print(len(eigen_vecs))\n",
    "print(eigen_vecs.shape)\n"
   ]
  },
  {
   "cell_type": "markdown",
   "metadata": {},
   "source": [
    "# Calculating Total and Explained varience\n",
    "* total_varience = sum(eigen_values)\\\n",
    "* explained_varience = top k eigen_values\\\n",
    "* explained_varience_ratio = $\\frac{\\lambda_j}{\\sum^d_{j=1} \\lambda_j}$"
   ]
  },
  {
   "cell_type": "code",
   "execution_count": 14,
   "metadata": {},
   "outputs": [],
   "source": [
    "tot = sum(eigen_vals)\n",
    "var_exp = [(i/tot) for i in sorted(eigen_vals, reverse=True)] \n",
    "cum_var_exp = np.cumsum(var_exp)"
   ]
  },
  {
   "cell_type": "code",
   "execution_count": 15,
   "metadata": {},
   "outputs": [
    {
     "data": {
      "image/png": "[encoded data removed]",
      "text/plain": [
       "<Figure size 640x480 with 1 Axes>"
      ]
     },
     "metadata": {},
     "output_type": "display_data"
    }
   ],
   "source": [
    "# Visualization\n",
    "import matplotlib.pyplot as plt\n",
    "plt.bar(range(1,14), var_exp, align='center', label='Individual explained varience')\n",
    "plt.step(range(1,14), cum_var_exp, where='mid', label='Cumulative explained varience')\n",
    "plt.xlabel(\"Principal Component index\")\n",
    "plt.ylabel(\"Explained Varience ratio\")\n",
    "plt.legend(loc=\"best\")\n",
    "plt.tight_layout()\n",
    "plt.show()"
   ]
  },
  {
   "cell_type": "markdown",
   "metadata": {},
   "source": [
    "# Feature Transformation\n",
    "After the decomposition of covarience matrix into eigenpairs, The Feature transformation of dataset into the new principal component axes by follwing the steps:\n",
    "1. Select k eigen_vectors which corresponds to the k largest eigenvalues, where k is the dimensionality of the new feature subspace(k<=d)\n",
    "2. Construct a projection matrix, W, from the \"top\" k eigenvectors.\n",
    "3. Transform the d-dimensional input dataset, X, using the projection matrix, W, to obtain the new K-dimensional subspace."
   ]
  },
  {
   "cell_type": "code",
   "execution_count": 16,
   "metadata": {},
   "outputs": [
    {
     "data": {
      "text/plain": [
       "[(4.7950021867965695,\n",
       "  array([ 0.12221148, -0.24391049,  0.00369454, -0.249647  ,  0.13011026,\n",
       "          0.39099441,  0.41649235, -0.31569983,  0.2982478 , -0.07304049,\n",
       "          0.31641846,  0.37253046,  0.29514562])),\n",
       " (2.500030784676868,\n",
       "  array([-0.49927666, -0.15419073, -0.25170137,  0.12269609, -0.31420427,\n",
       "         -0.05595656,  0.02637354, -0.07362469,  0.01094724, -0.53961007,\n",
       "          0.21061646,  0.23649287, -0.38598117])),\n",
       " (1.4430667761042502,\n",
       "  array([ 0.12829383, -0.1337824 , -0.68792836, -0.59377246, -0.08497154,\n",
       "         -0.19268611, -0.17557319, -0.14144693, -0.10831831,  0.04566347,\n",
       "         -0.03375899, -0.15215839,  0.08087437])),\n",
       " (0.9990127053029306,\n",
       "  array([ 0.01136017, -0.54699739,  0.23900517, -0.00821015,  0.2395333 ,\n",
       "         -0.19038516, -0.12710511,  0.14397781, -0.50797474, -0.12906415,\n",
       "          0.4398643 , -0.11987325,  0.17441276])),\n",
       " (0.8751771700921368,\n",
       "  array([ 0.35962533,  0.01698596,  0.05336737, -0.0239095 , -0.78023056,\n",
       "          0.14478068,  0.09809546,  0.3623129 , -0.19387822,  0.04960602,\n",
       "          0.15537495,  0.12791144,  0.12567652])),\n",
       " (0.6782156432310543,\n",
       "  array([-0.23048312, -0.60977103, -0.09514094,  0.08118367, -0.09478221,\n",
       "          0.08777222,  0.02399015,  0.34996396,  0.44672728,  0.41216773,\n",
       "         -0.09171275, -0.18082623, -0.09549583])),\n",
       " (0.53031812945489,\n",
       "  array([-0.04714035,  0.35388209, -0.13810458, -0.20497479,  0.28258535,\n",
       "          0.09820019,  0.00157734,  0.66135648,  0.26286453, -0.26596722,\n",
       "          0.34939097, -0.13830236,  0.05938995])),\n",
       " (0.3508020936842844,\n",
       "  array([ 0.39450917,  0.03230253, -0.11452347,  0.38757845, -0.07484282,\n",
       "         -0.39221599, -0.21330841, -0.23189151,  0.43379869,  0.029185  ,\n",
       "          0.47115093, -0.10069926, -0.01098965])),\n",
       " (0.2844649800472954,\n",
       "  array([-0.37873538,  0.07247366,  0.42213357, -0.33788462, -0.29483288,\n",
       "         -0.37290376, -0.10814667, -0.10113392,  0.2907922 , -0.10312288,\n",
       "         -0.03714341, -0.10767923,  0.45040873])),\n",
       " (0.11333092745196907,\n",
       "  array([ 0.10409129, -0.03035566, -0.08005053,  0.0565922 ,  0.05231238,\n",
       "         -0.53850843,  0.7933956 ,  0.12389145, -0.03543909, -0.08223035,\n",
       "         -0.1539475 , -0.09560296, -0.01488871])),\n",
       " (0.14810970658677527,\n",
       "  array([-0.07349869,  0.05093259, -0.03823149, -0.06769449,  0.14339912,\n",
       "         -0.37707533, -0.15502733,  0.23098643, -0.01726654,  0.33536197,\n",
       "          0.02172227,  0.79530351, -0.00877459])),\n",
       " (0.189681617021412,\n",
       "  array([ 0.45755259, -0.29983979,  0.18581102, -0.12717355,  0.07323052,\n",
       "         -0.06214601, -0.22468051,  0.14560588,  0.24245459, -0.51955629,\n",
       "         -0.44167755,  0.16577842, -0.13360808])),\n",
       " (0.19934465659875153,\n",
       "  array([-0.09926907, -0.05071359, -0.37627553,  0.48215182,  0.03102063,\n",
       "          0.0581313 , -0.0864211 ,  0.09556013, -0.04272858, -0.20250302,\n",
       "         -0.25230846,  0.09337111,  0.69091775]))]"
      ]
     },
     "execution_count": 16,
     "metadata": {},
     "output_type": "execute_result"
    }
   ],
   "source": [
    "# make a list of (eigenvalue, eigenvector) tuples.\n",
    "eigen_pairs = [(np.abs(eigen_vals[i]), eigen_vecs[:, i]) for i in range(len(eigen_vals))]\n",
    "eigen_pairs"
   ]
  },
  {
   "cell_type": "code",
   "execution_count": 17,
   "metadata": {},
   "outputs": [
    {
     "data": {
      "text/plain": [
       "[(4.7950021867965695,\n",
       "  array([ 0.12221148, -0.24391049,  0.00369454, -0.249647  ,  0.13011026,\n",
       "          0.39099441,  0.41649235, -0.31569983,  0.2982478 , -0.07304049,\n",
       "          0.31641846,  0.37253046,  0.29514562])),\n",
       " (2.500030784676868,\n",
       "  array([-0.49927666, -0.15419073, -0.25170137,  0.12269609, -0.31420427,\n",
       "         -0.05595656,  0.02637354, -0.07362469,  0.01094724, -0.53961007,\n",
       "          0.21061646,  0.23649287, -0.38598117])),\n",
       " (1.4430667761042502,\n",
       "  array([ 0.12829383, -0.1337824 , -0.68792836, -0.59377246, -0.08497154,\n",
       "         -0.19268611, -0.17557319, -0.14144693, -0.10831831,  0.04566347,\n",
       "         -0.03375899, -0.15215839,  0.08087437])),\n",
       " (0.9990127053029306,\n",
       "  array([ 0.01136017, -0.54699739,  0.23900517, -0.00821015,  0.2395333 ,\n",
       "         -0.19038516, -0.12710511,  0.14397781, -0.50797474, -0.12906415,\n",
       "          0.4398643 , -0.11987325,  0.17441276])),\n",
       " (0.8751771700921368,\n",
       "  array([ 0.35962533,  0.01698596,  0.05336737, -0.0239095 , -0.78023056,\n",
       "          0.14478068,  0.09809546,  0.3623129 , -0.19387822,  0.04960602,\n",
       "          0.15537495,  0.12791144,  0.12567652])),\n",
       " (0.6782156432310543,\n",
       "  array([-0.23048312, -0.60977103, -0.09514094,  0.08118367, -0.09478221,\n",
       "          0.08777222,  0.02399015,  0.34996396,  0.44672728,  0.41216773,\n",
       "         -0.09171275, -0.18082623, -0.09549583])),\n",
       " (0.53031812945489,\n",
       "  array([-0.04714035,  0.35388209, -0.13810458, -0.20497479,  0.28258535,\n",
       "          0.09820019,  0.00157734,  0.66135648,  0.26286453, -0.26596722,\n",
       "          0.34939097, -0.13830236,  0.05938995])),\n",
       " (0.3508020936842844,\n",
       "  array([ 0.39450917,  0.03230253, -0.11452347,  0.38757845, -0.07484282,\n",
       "         -0.39221599, -0.21330841, -0.23189151,  0.43379869,  0.029185  ,\n",
       "          0.47115093, -0.10069926, -0.01098965])),\n",
       " (0.2844649800472954,\n",
       "  array([-0.37873538,  0.07247366,  0.42213357, -0.33788462, -0.29483288,\n",
       "         -0.37290376, -0.10814667, -0.10113392,  0.2907922 , -0.10312288,\n",
       "         -0.03714341, -0.10767923,  0.45040873])),\n",
       " (0.19934465659875153,\n",
       "  array([-0.09926907, -0.05071359, -0.37627553,  0.48215182,  0.03102063,\n",
       "          0.0581313 , -0.0864211 ,  0.09556013, -0.04272858, -0.20250302,\n",
       "         -0.25230846,  0.09337111,  0.69091775])),\n",
       " (0.189681617021412,\n",
       "  array([ 0.45755259, -0.29983979,  0.18581102, -0.12717355,  0.07323052,\n",
       "         -0.06214601, -0.22468051,  0.14560588,  0.24245459, -0.51955629,\n",
       "         -0.44167755,  0.16577842, -0.13360808])),\n",
       " (0.14810970658677527,\n",
       "  array([-0.07349869,  0.05093259, -0.03823149, -0.06769449,  0.14339912,\n",
       "         -0.37707533, -0.15502733,  0.23098643, -0.01726654,  0.33536197,\n",
       "          0.02172227,  0.79530351, -0.00877459])),\n",
       " (0.11333092745196907,\n",
       "  array([ 0.10409129, -0.03035566, -0.08005053,  0.0565922 ,  0.05231238,\n",
       "         -0.53850843,  0.7933956 ,  0.12389145, -0.03543909, -0.08223035,\n",
       "         -0.1539475 , -0.09560296, -0.01488871]))]"
      ]
     },
     "execution_count": 17,
     "metadata": {},
     "output_type": "execute_result"
    }
   ],
   "source": [
    "# Sort the (eigenvals, eigen_vecs) tuples from high to low\n",
    "eigen_pairs.sort(key=lambda k: k[0], reverse=True)\n",
    "eigen_pairs"
   ]
  },
  {
   "cell_type": "code",
   "execution_count": 18,
   "metadata": {},
   "outputs": [
    {
     "name": "stdout",
     "output_type": "stream",
     "text": [
      "Matrix W: \n",
      " [[ 0.12221148 -0.49927666]\n",
      " [-0.24391049 -0.15419073]\n",
      " [ 0.00369454 -0.25170137]\n",
      " [-0.249647    0.12269609]\n",
      " [ 0.13011026 -0.31420427]\n",
      " [ 0.39099441 -0.05595656]\n",
      " [ 0.41649235  0.02637354]\n",
      " [-0.31569983 -0.07362469]\n",
      " [ 0.2982478   0.01094724]\n",
      " [-0.07304049 -0.53961007]\n",
      " [ 0.31641846  0.21061646]\n",
      " [ 0.37253046  0.23649287]\n",
      " [ 0.29514562 -0.38598117]]\n",
      "(13, 2)\n"
     ]
    }
   ],
   "source": [
    "# Constructing the projection matrix , taking top 2 eigenvectors i.e k = 2. \n",
    "w = np.hstack((eigen_pairs[0][1][:, np.newaxis],eigen_pairs[1][1][:, np.newaxis]))\n",
    "print(\"Matrix W: \\n\", w)\n",
    "print(w.shape)"
   ]
  },
  {
   "cell_type": "markdown",
   "metadata": {},
   "source": [
    "We can now transform an example, x(represented as a 13D row vector), onto the PCA subspace(the principal components one and two) obtaining x', now a 2d example vector consisting of two new features:\n",
    "x' = xw"
   ]
  },
  {
   "cell_type": "code",
   "execution_count": 19,
   "metadata": {},
   "outputs": [
    {
     "data": {
      "text/plain": [
       "array([-3.60252556, -1.65534122])"
      ]
     },
     "execution_count": 19,
     "metadata": {},
     "output_type": "execute_result"
    }
   ],
   "source": [
    "X_train_std[0].dot(w)"
   ]
  },
  {
   "cell_type": "code",
   "execution_count": 20,
   "metadata": {},
   "outputs": [
    {
     "name": "stdout",
     "output_type": "stream",
     "text": [
      "(123, 13)\n"
     ]
    }
   ],
   "source": [
    "# Similarly we can transform the entire training dataset onto two principal components \n",
    "# by calculating the matrix dot product. X' = XW\n",
    "print(X_train_std.shape)\n",
    "X_train_pca = X_train_std.dot(w)"
   ]
  },
  {
   "cell_type": "code",
   "execution_count": 21,
   "metadata": {},
   "outputs": [
    {
     "data": {
      "text/plain": [
       "array([[-3.60252556, -1.65534122],\n",
       "       [ 1.95604795, -1.82561351],\n",
       "       [ 2.53103837, -1.06863621],\n",
       "       [ 1.47797293, -0.71793527],\n",
       "       [-3.90146552, -0.40145293],\n",
       "       [-0.42214163,  2.44532507],\n",
       "       [-1.74387502,  1.45385432],\n",
       "       [-3.13944101,  0.16581341],\n",
       "       [-1.15074122,  1.19597359],\n",
       "       [-1.94561601,  1.43399254],\n",
       "       [-0.45636798,  2.08549274],\n",
       "       [ 3.14573128, -1.07215686],\n",
       "       [ 1.31382487,  0.37036872],\n",
       "       [-1.11804307, -3.24657234],\n",
       "       [ 2.29628822, -1.98343198],\n",
       "       [-2.95314851, -0.44212808],\n",
       "       [-0.69582743,  1.17779918],\n",
       "       [ 1.67836268, -0.21219913],\n",
       "       [-2.49714184, -1.93398917],\n",
       "       [-2.45493213, -2.22976937],\n",
       "       [ 1.63238674,  1.72307205],\n",
       "       [ 2.19524397, -0.77156229],\n",
       "       [ 1.50108493,  2.20988936],\n",
       "       [ 0.88556019,  1.86713781],\n",
       "       [-2.87493498, -1.84457834],\n",
       "       [ 1.12582905,  1.47898139],\n",
       "       [-2.91083021, -0.20971598],\n",
       "       [ 2.55194101, -1.14186067],\n",
       "       [ 0.80245105,  1.67634067],\n",
       "       [ 1.45210266,  1.74735435],\n",
       "       [ 1.74555783,  0.56331692],\n",
       "       [ 3.32894865, -0.28656167],\n",
       "       [-3.22737772, -2.53408165],\n",
       "       [ 3.62336956, -2.66275345],\n",
       "       [-0.38633596,  2.20654812],\n",
       "       [ 1.48045514, -0.80259759],\n",
       "       [ 3.79545686, -2.65678008],\n",
       "       [-1.05979953,  1.87956561],\n",
       "       [-2.24067633, -0.39099663],\n",
       "       [-2.75165343, -0.64916845],\n",
       "       [ 4.3893935 , -2.25375156],\n",
       "       [-2.5802463 , -1.62891038],\n",
       "       [-2.17875634, -1.33269993],\n",
       "       [-2.16843001, -1.92034069],\n",
       "       [ 2.79174895, -1.08008066],\n",
       "       [-0.52037117,  2.81523038],\n",
       "       [-2.30991023, -2.2058817 ],\n",
       "       [-4.25287907, -0.59977326],\n",
       "       [-1.77169338,  0.33449433],\n",
       "       [-2.63229931, -0.57578405],\n",
       "       [-1.63499258,  1.40613309],\n",
       "       [ 1.71852197,  1.2517807 ],\n",
       "       [ 0.86031719,  2.43796222],\n",
       "       [ 2.19892681, -2.30982516],\n",
       "       [-0.77523831, -0.28250079],\n",
       "       [-2.55023724,  0.20562033],\n",
       "       [-2.837008  , -1.29949923],\n",
       "       [-2.62623973, -2.78476917],\n",
       "       [-0.19391088,  2.88888129],\n",
       "       [ 2.77489532, -1.8162772 ],\n",
       "       [ 3.58064849, -1.73084717],\n",
       "       [-0.11368906,  1.38430348],\n",
       "       [-2.81156458, -0.58283166],\n",
       "       [-3.85932503, -0.1188047 ],\n",
       "       [-0.05684181,  2.27881052],\n",
       "       [ 2.31644558, -0.23022183],\n",
       "       [-0.60671933,  2.57685508],\n",
       "       [ 2.32075744,  1.7348983 ],\n",
       "       [-1.52363625,  1.86679745],\n",
       "       [ 2.19627154, -0.99190031],\n",
       "       [ 2.50504221, -1.2233848 ],\n",
       "       [ 0.52477635, -0.18796041],\n",
       "       [ 2.74683926, -1.45926916],\n",
       "       [ 2.147626  ,  0.07281643],\n",
       "       [-3.03903591, -0.62668029],\n",
       "       [ 3.10141703, -2.27826499],\n",
       "       [-2.33700991, -0.22980754],\n",
       "       [-2.54379126, -0.80347144],\n",
       "       [-0.43392213,  0.4263647 ],\n",
       "       [-0.72089688,  2.07471836],\n",
       "       [-2.85152441, -1.98163761],\n",
       "       [ 1.83338428, -0.68811287],\n",
       "       [ 1.92724785,  1.41125374],\n",
       "       [ 2.25595033, -0.62545354],\n",
       "       [ 0.97993058,  0.65668535],\n",
       "       [-1.62060368,  1.56026832],\n",
       "       [-2.7601845 , -2.22211793],\n",
       "       [-0.49807032,  2.16766138],\n",
       "       [ 1.9549658 , -0.01613603],\n",
       "       [ 2.86739956, -0.64402251],\n",
       "       [ 1.82770285, -0.77737217],\n",
       "       [-2.36207101,  0.12926856],\n",
       "       [ 2.10283438,  1.07324306],\n",
       "       [ 0.29039476,  2.38798306],\n",
       "       [ 2.42937277, -1.78397592],\n",
       "       [-2.38074145,  1.10866632],\n",
       "       [-0.30587549,  2.18740606],\n",
       "       [-1.63849967, -2.25555482],\n",
       "       [-1.2684696 , -0.48553902],\n",
       "       [ 0.88602491,  3.22150833],\n",
       "       [ 0.73449961, -0.01650518],\n",
       "       [ 1.19816443,  0.05242644],\n",
       "       [ 0.43783866,  1.29895684],\n",
       "       [ 1.34475663,  0.38263018],\n",
       "       [-3.32835694, -2.07406894],\n",
       "       [ 2.9490464 , -0.68383489],\n",
       "       [-3.6284634 , -0.97369464],\n",
       "       [ 2.83187706, -0.80914049],\n",
       "       [ 1.03224402,  2.10097381],\n",
       "       [-0.46023449,  2.58225415],\n",
       "       [-0.22275986,  2.05541148],\n",
       "       [ 0.11568217,  0.90277511],\n",
       "       [ 1.30547792, -0.06200793],\n",
       "       [-3.06752867, -0.49107886],\n",
       "       [ 2.25996799, -1.23127529],\n",
       "       [ 1.93531848, -1.6941926 ],\n",
       "       [ 2.51263663, -1.17770237],\n",
       "       [ 1.60050547,  0.49659261],\n",
       "       [ 0.88637347,  1.62255868],\n",
       "       [ 0.45427256,  2.16185068],\n",
       "       [-2.31031523, -0.43038839],\n",
       "       [ 0.09577771,  2.28588586],\n",
       "       [-0.42771035,  1.13448042]])"
      ]
     },
     "execution_count": 21,
     "metadata": {},
     "output_type": "execute_result"
    }
   ],
   "source": [
    "X_train_pca.shape\n",
    "X_train_pca"
   ]
  },
  {
   "cell_type": "code",
   "execution_count": 22,
   "metadata": {},
   "outputs": [
    {
     "data": {
      "image/png": "[encoded data removed]",
      "text/plain": [
       "<Figure size 640x480 with 1 Axes>"
      ]
     },
     "metadata": {},
     "output_type": "display_data"
    }
   ],
   "source": [
    "# Visualizing the transformed Wine dataset into 2d scatterplot\n",
    "colors = ['r','b', 'g']\n",
    "markers =['o','s','^']\n",
    "for l,c,m in zip(np.unique(y_train), colors, markers):\n",
    "    plt.scatter(X_train_pca[y_train==l, 0],\n",
    "                X_train_pca[y_train==l,1],\n",
    "                c=c, label=f'Class {l}', marker=m)\n",
    "plt.xlabel('PC 1')\n",
    "plt.ylabel('pc 2')\n",
    "plt.legend(loc='lower left')\n",
    "plt.tight_layout()\n",
    "plt.show()"
   ]
  },
  {
   "cell_type": "code",
   "execution_count": 23,
   "metadata": {},
   "outputs": [
    {
     "data": {
      "text/plain": [
       "array([1, 2, 3])"
      ]
     },
     "execution_count": 23,
     "metadata": {},
     "output_type": "execute_result"
    }
   ],
   "source": [
    "np.unique(y_train)"
   ]
  },
  {
   "cell_type": "code",
   "execution_count": 25,
   "metadata": {},
   "outputs": [
    {
     "data": {
      "text/plain": [
       "array([[ 0.2676125 , -0.78943057,  0.15411644,  0.01135457,  0.33643275,\n",
       "        -0.18981172, -0.03432899,  0.23366206, -0.2019995 ,  0.03504198,\n",
       "        -0.02828599,  0.19927538, -0.04432168],\n",
       "       [-0.53410283, -0.24379846, -0.16070974, -0.5467273 ,  0.01589052,\n",
       "        -0.50216991,  0.25770736,  0.01913232,  0.03865401, -0.01021913,\n",
       "         0.01960142, -0.13058759, -0.02264262],\n",
       "       [ 0.00809011, -0.39797726, -0.82639262,  0.23888715,  0.04992565,\n",
       "        -0.07835223, -0.10057182, -0.06783059,  0.22514603, -0.02694874,\n",
       "        -0.0147134 ,  0.08092526, -0.16799961],\n",
       "       [-0.54666436,  0.19400075, -0.71328529, -0.0082061 , -0.02236755,\n",
       "         0.06685788, -0.14926867,  0.22955709, -0.18021163,  0.01905157,\n",
       "        -0.02605224, -0.0553872 ,  0.21527129],\n",
       "       [ 0.28490885, -0.49680364, -0.10207437,  0.23941502, -0.72991275,\n",
       "        -0.07805679,  0.20578697, -0.04432831, -0.15724988,  0.01761078,\n",
       "         0.05518718,  0.03189369,  0.0138501 ],\n",
       "       [ 0.85617975, -0.08847564, -0.23146941, -0.19029116,  0.13544363,\n",
       "         0.0722838 ,  0.07151227, -0.23230384, -0.19888918, -0.18128703,\n",
       "        -0.14511753, -0.02706611,  0.02595448],\n",
       "       [ 0.91201385,  0.04170048, -0.21091206, -0.12704235,  0.09176919,\n",
       "         0.01975681,  0.00114866, -0.12633948, -0.05768031,  0.26709392,\n",
       "        -0.0596623 , -0.09785388, -0.03858532],\n",
       "       [-0.69130349, -0.11641158, -0.16991696,  0.14390672,  0.338947  ,\n",
       "         0.28820879,  0.48161926, -0.13734598, -0.05394004,  0.04170763,\n",
       "         0.08889518,  0.06341493,  0.04266572],\n",
       "       [ 0.65308791,  0.01730921, -0.13012031, -0.50772391, -0.18137483,\n",
       "         0.36789711,  0.19142569,  0.25693267,  0.15509477, -0.01193045,\n",
       "        -0.00664503,  0.10559492, -0.01907747],\n",
       "       [-0.15994037, -0.85320369,  0.05485448, -0.12900042,  0.04640688,\n",
       "         0.33943599, -0.19368516,  0.01728585, -0.05500085, -0.02768257,\n",
       "         0.12906414, -0.22627951, -0.09041361],\n",
       "       [ 0.69287711,  0.33301591, -0.04055391,  0.43964711,  0.14535467,\n",
       "        -0.07552898,  0.25443679,  0.27905586, -0.01981053, -0.0518259 ,\n",
       "         0.00835982, -0.19236141, -0.11265076],\n",
       "       [ 0.81574834,  0.37393036, -0.1827844 , -0.11981406,  0.11966231,\n",
       "        -0.14891736, -0.10071585, -0.05964271, -0.05743099, -0.03218441,\n",
       "         0.30607274,  0.07220057,  0.04168836],\n",
       "       [ 0.64629494, -0.61029358,  0.09715253,  0.17432664,  0.11757152,\n",
       "        -0.07864449,  0.04324951, -0.00650901,  0.24022666, -0.00501223,\n",
       "        -0.0033769 , -0.0581896 ,  0.30848116]])"
      ]
     },
     "execution_count": 25,
     "metadata": {},
     "output_type": "execute_result"
    }
   ],
   "source": [
    "## Assessing feature contributions\n",
    "loadings = eigen_vecs * np.sqrt(eigen_vals)\n",
    "loadings"
   ]
  },
  {
   "cell_type": "code",
   "execution_count": 26,
   "metadata": {},
   "outputs": [
    {
     "data": {
      "image/png": "[encoded data removed]",
      "text/plain": [
       "<Figure size 640x480 with 1 Axes>"
      ]
     },
     "metadata": {},
     "output_type": "display_data"
    }
   ],
   "source": [
    "# Plotting the loadings for the first principal component, loadings[:,0]\n",
    "fig, ax = plt.subplots()\n",
    "ax.bar(range(13), loadings[:,0], align='center')\n",
    "ax.set_ylabel(\"Loadings for PC 1\")\n",
    "ax.set_xticks(range(13))\n",
    "ax.set_xticklabels(df_wine.columns[1:], rotation = 45)\n",
    "plt.ylim([-1,1])\n",
    "plt.tight_layout()\n",
    "plt.show()"
   ]
  },
  {
   "cell_type": "code",
   "execution_count": null,
   "metadata": {},
   "outputs": [],
   "source": []
  }
 ],
 "metadata": {
  "kernelspec": {
   "display_name": ".venv",
   "language": "python",
   "name": "python3"
  },
  "language_info": {
   "codemirror_mode": {
    "name": "ipython",
    "version": 3
   },
   "file_extension": ".py",
   "mimetype": "text/x-python",
   "name": "python",
   "nbconvert_exporter": "python",
   "pygments_lexer": "ipython3",
   "version": "3.10.12"
  }
 },
 "nbformat": 4,
 "nbformat_minor": 2
}
