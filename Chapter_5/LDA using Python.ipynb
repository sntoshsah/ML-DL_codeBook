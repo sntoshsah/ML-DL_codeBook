{
 "cells": [
  {
   "cell_type": "markdown",
   "metadata": {},
   "source": [
    "1. Principal Component Analysis is unsupervised dimensionality reduction technique.\n",
    "2. Linear descriminant Analysis is as a supervised dimensionality reduction technique.\n",
    "\n",
    "#### The inner working of the LDA\n",
    "1. Standardize the d-dimensional dataset (d is the number of features).\n",
    "2. For each class, compute the d-dimensional mean vector.\n",
    "3. Construct the between class scatter-matrix, S<sub>B</sub>, and the within class matrix, S<sub>w</sub> .\n",
    "4. Compute the eigenvectors and corresponding eigenvalues of the matrix, S{<sup>-1</sup><sub>w</sub>}S<sub>B</sub>.\n",
    "5. Sort the eigenvalues by decreasing order to rank the corresponding eigenvectors.\n",
    "6. Choose the k eigen vectors that corresponds to the k largest eigenvalues to construct a dxk dimensional transformation matrix, W; the eigenvectors are the columns of this matrix.\n",
    "7. Project the examples on to the new feature subspace using the transformation matrix, W.\n",
    "\n",
    "\n",
    "\n"
   ]
  },
  {
   "cell_type": "code",
   "execution_count": 1,
   "metadata": {},
   "outputs": [],
   "source": [
    "import numpy as np\n",
    "import pandas as pd\n",
    "import seaborn as sns\n",
    "import matplotlib.pyplot as plt\n",
    "from sklearn.preprocessing import StandardScaler\n",
    "from sklearn.model_selection import train_test_split"
   ]
  },
  {
   "cell_type": "code",
   "execution_count": 2,
   "metadata": {},
   "outputs": [
    {
     "data": {
      "text/html": [
       "<div>\n",
       "<style scoped>\n",
       "    .dataframe tbody tr th:only-of-type {\n",
       "        vertical-align: middle;\n",
       "    }\n",
       "\n",
       "    .dataframe tbody tr th {\n",
       "        vertical-align: top;\n",
       "    }\n",
       "\n",
       "    .dataframe thead th {\n",
       "        text-align: right;\n",
       "    }\n",
       "</style>\n",
       "<table border=\"1\" class=\"dataframe\">\n",
       "  <thead>\n",
       "    <tr style=\"text-align: right;\">\n",
       "      <th></th>\n",
       "      <th>1</th>\n",
       "      <th>14.23</th>\n",
       "      <th>1.71</th>\n",
       "      <th>2.43</th>\n",
       "      <th>15.6</th>\n",
       "      <th>127</th>\n",
       "      <th>2.8</th>\n",
       "      <th>3.06</th>\n",
       "      <th>.28</th>\n",
       "      <th>2.29</th>\n",
       "      <th>5.64</th>\n",
       "      <th>1.04</th>\n",
       "      <th>3.92</th>\n",
       "      <th>1065</th>\n",
       "    </tr>\n",
       "  </thead>\n",
       "  <tbody>\n",
       "    <tr>\n",
       "      <th>0</th>\n",
       "      <td>1</td>\n",
       "      <td>13.20</td>\n",
       "      <td>1.78</td>\n",
       "      <td>2.14</td>\n",
       "      <td>11.2</td>\n",
       "      <td>100</td>\n",
       "      <td>2.65</td>\n",
       "      <td>2.76</td>\n",
       "      <td>0.26</td>\n",
       "      <td>1.28</td>\n",
       "      <td>4.38</td>\n",
       "      <td>1.05</td>\n",
       "      <td>3.40</td>\n",
       "      <td>1050</td>\n",
       "    </tr>\n",
       "    <tr>\n",
       "      <th>1</th>\n",
       "      <td>1</td>\n",
       "      <td>13.16</td>\n",
       "      <td>2.36</td>\n",
       "      <td>2.67</td>\n",
       "      <td>18.6</td>\n",
       "      <td>101</td>\n",
       "      <td>2.80</td>\n",
       "      <td>3.24</td>\n",
       "      <td>0.30</td>\n",
       "      <td>2.81</td>\n",
       "      <td>5.68</td>\n",
       "      <td>1.03</td>\n",
       "      <td>3.17</td>\n",
       "      <td>1185</td>\n",
       "    </tr>\n",
       "    <tr>\n",
       "      <th>2</th>\n",
       "      <td>1</td>\n",
       "      <td>14.37</td>\n",
       "      <td>1.95</td>\n",
       "      <td>2.50</td>\n",
       "      <td>16.8</td>\n",
       "      <td>113</td>\n",
       "      <td>3.85</td>\n",
       "      <td>3.49</td>\n",
       "      <td>0.24</td>\n",
       "      <td>2.18</td>\n",
       "      <td>7.80</td>\n",
       "      <td>0.86</td>\n",
       "      <td>3.45</td>\n",
       "      <td>1480</td>\n",
       "    </tr>\n",
       "    <tr>\n",
       "      <th>3</th>\n",
       "      <td>1</td>\n",
       "      <td>13.24</td>\n",
       "      <td>2.59</td>\n",
       "      <td>2.87</td>\n",
       "      <td>21.0</td>\n",
       "      <td>118</td>\n",
       "      <td>2.80</td>\n",
       "      <td>2.69</td>\n",
       "      <td>0.39</td>\n",
       "      <td>1.82</td>\n",
       "      <td>4.32</td>\n",
       "      <td>1.04</td>\n",
       "      <td>2.93</td>\n",
       "      <td>735</td>\n",
       "    </tr>\n",
       "    <tr>\n",
       "      <th>4</th>\n",
       "      <td>1</td>\n",
       "      <td>14.20</td>\n",
       "      <td>1.76</td>\n",
       "      <td>2.45</td>\n",
       "      <td>15.2</td>\n",
       "      <td>112</td>\n",
       "      <td>3.27</td>\n",
       "      <td>3.39</td>\n",
       "      <td>0.34</td>\n",
       "      <td>1.97</td>\n",
       "      <td>6.75</td>\n",
       "      <td>1.05</td>\n",
       "      <td>2.85</td>\n",
       "      <td>1450</td>\n",
       "    </tr>\n",
       "  </tbody>\n",
       "</table>\n",
       "</div>"
      ],
      "text/plain": [
       "   1  14.23  1.71  2.43  15.6  127   2.8  3.06   .28  2.29  5.64  1.04  3.92  \\\n",
       "0  1  13.20  1.78  2.14  11.2  100  2.65  2.76  0.26  1.28  4.38  1.05  3.40   \n",
       "1  1  13.16  2.36  2.67  18.6  101  2.80  3.24  0.30  2.81  5.68  1.03  3.17   \n",
       "2  1  14.37  1.95  2.50  16.8  113  3.85  3.49  0.24  2.18  7.80  0.86  3.45   \n",
       "3  1  13.24  2.59  2.87  21.0  118  2.80  2.69  0.39  1.82  4.32  1.04  2.93   \n",
       "4  1  14.20  1.76  2.45  15.2  112  3.27  3.39  0.34  1.97  6.75  1.05  2.85   \n",
       "\n",
       "   1065  \n",
       "0  1050  \n",
       "1  1185  \n",
       "2  1480  \n",
       "3   735  \n",
       "4  1450  "
      ]
     },
     "execution_count": 2,
     "metadata": {},
     "output_type": "execute_result"
    }
   ],
   "source": [
    "df = pd.read_csv(\"Wine_dataset.csv\")\n",
    "df.head()"
   ]
  },
  {
   "cell_type": "code",
   "execution_count": 3,
   "metadata": {},
   "outputs": [],
   "source": [
    "y,X = df.iloc[:,0],df.iloc[:,1:]"
   ]
  },
  {
   "cell_type": "code",
   "execution_count": 4,
   "metadata": {},
   "outputs": [
    {
     "data": {
      "text/html": [
       "<div>\n",
       "<style scoped>\n",
       "    .dataframe tbody tr th:only-of-type {\n",
       "        vertical-align: middle;\n",
       "    }\n",
       "\n",
       "    .dataframe tbody tr th {\n",
       "        vertical-align: top;\n",
       "    }\n",
       "\n",
       "    .dataframe thead th {\n",
       "        text-align: right;\n",
       "    }\n",
       "</style>\n",
       "<table border=\"1\" class=\"dataframe\">\n",
       "  <thead>\n",
       "    <tr style=\"text-align: right;\">\n",
       "      <th></th>\n",
       "      <th>14.23</th>\n",
       "      <th>1.71</th>\n",
       "      <th>2.43</th>\n",
       "      <th>15.6</th>\n",
       "      <th>127</th>\n",
       "      <th>2.8</th>\n",
       "      <th>3.06</th>\n",
       "      <th>.28</th>\n",
       "      <th>2.29</th>\n",
       "      <th>5.64</th>\n",
       "      <th>1.04</th>\n",
       "      <th>3.92</th>\n",
       "      <th>1065</th>\n",
       "    </tr>\n",
       "  </thead>\n",
       "  <tbody>\n",
       "    <tr>\n",
       "      <th>0</th>\n",
       "      <td>13.20</td>\n",
       "      <td>1.78</td>\n",
       "      <td>2.14</td>\n",
       "      <td>11.2</td>\n",
       "      <td>100</td>\n",
       "      <td>2.65</td>\n",
       "      <td>2.76</td>\n",
       "      <td>0.26</td>\n",
       "      <td>1.28</td>\n",
       "      <td>4.38</td>\n",
       "      <td>1.05</td>\n",
       "      <td>3.40</td>\n",
       "      <td>1050</td>\n",
       "    </tr>\n",
       "    <tr>\n",
       "      <th>1</th>\n",
       "      <td>13.16</td>\n",
       "      <td>2.36</td>\n",
       "      <td>2.67</td>\n",
       "      <td>18.6</td>\n",
       "      <td>101</td>\n",
       "      <td>2.80</td>\n",
       "      <td>3.24</td>\n",
       "      <td>0.30</td>\n",
       "      <td>2.81</td>\n",
       "      <td>5.68</td>\n",
       "      <td>1.03</td>\n",
       "      <td>3.17</td>\n",
       "      <td>1185</td>\n",
       "    </tr>\n",
       "    <tr>\n",
       "      <th>2</th>\n",
       "      <td>14.37</td>\n",
       "      <td>1.95</td>\n",
       "      <td>2.50</td>\n",
       "      <td>16.8</td>\n",
       "      <td>113</td>\n",
       "      <td>3.85</td>\n",
       "      <td>3.49</td>\n",
       "      <td>0.24</td>\n",
       "      <td>2.18</td>\n",
       "      <td>7.80</td>\n",
       "      <td>0.86</td>\n",
       "      <td>3.45</td>\n",
       "      <td>1480</td>\n",
       "    </tr>\n",
       "    <tr>\n",
       "      <th>3</th>\n",
       "      <td>13.24</td>\n",
       "      <td>2.59</td>\n",
       "      <td>2.87</td>\n",
       "      <td>21.0</td>\n",
       "      <td>118</td>\n",
       "      <td>2.80</td>\n",
       "      <td>2.69</td>\n",
       "      <td>0.39</td>\n",
       "      <td>1.82</td>\n",
       "      <td>4.32</td>\n",
       "      <td>1.04</td>\n",
       "      <td>2.93</td>\n",
       "      <td>735</td>\n",
       "    </tr>\n",
       "    <tr>\n",
       "      <th>4</th>\n",
       "      <td>14.20</td>\n",
       "      <td>1.76</td>\n",
       "      <td>2.45</td>\n",
       "      <td>15.2</td>\n",
       "      <td>112</td>\n",
       "      <td>3.27</td>\n",
       "      <td>3.39</td>\n",
       "      <td>0.34</td>\n",
       "      <td>1.97</td>\n",
       "      <td>6.75</td>\n",
       "      <td>1.05</td>\n",
       "      <td>2.85</td>\n",
       "      <td>1450</td>\n",
       "    </tr>\n",
       "  </tbody>\n",
       "</table>\n",
       "</div>"
      ],
      "text/plain": [
       "   14.23  1.71  2.43  15.6  127   2.8  3.06   .28  2.29  5.64  1.04  3.92  \\\n",
       "0  13.20  1.78  2.14  11.2  100  2.65  2.76  0.26  1.28  4.38  1.05  3.40   \n",
       "1  13.16  2.36  2.67  18.6  101  2.80  3.24  0.30  2.81  5.68  1.03  3.17   \n",
       "2  14.37  1.95  2.50  16.8  113  3.85  3.49  0.24  2.18  7.80  0.86  3.45   \n",
       "3  13.24  2.59  2.87  21.0  118  2.80  2.69  0.39  1.82  4.32  1.04  2.93   \n",
       "4  14.20  1.76  2.45  15.2  112  3.27  3.39  0.34  1.97  6.75  1.05  2.85   \n",
       "\n",
       "   1065  \n",
       "0  1050  \n",
       "1  1185  \n",
       "2  1480  \n",
       "3   735  \n",
       "4  1450  "
      ]
     },
     "execution_count": 4,
     "metadata": {},
     "output_type": "execute_result"
    }
   ],
   "source": [
    "X.head()"
   ]
  },
  {
   "cell_type": "code",
   "execution_count": 5,
   "metadata": {},
   "outputs": [
    {
     "data": {
      "text/plain": [
       "0    1\n",
       "1    1\n",
       "2    1\n",
       "3    1\n",
       "4    1\n",
       "Name: 1, dtype: int64"
      ]
     },
     "execution_count": 5,
     "metadata": {},
     "output_type": "execute_result"
    }
   ],
   "source": [
    "y.head()"
   ]
  },
  {
   "cell_type": "code",
   "execution_count": 6,
   "metadata": {},
   "outputs": [
    {
     "data": {
      "text/plain": [
       "array([1, 2, 3])"
      ]
     },
     "execution_count": 6,
     "metadata": {},
     "output_type": "execute_result"
    }
   ],
   "source": [
    "np.unique(y)"
   ]
  },
  {
   "cell_type": "code",
   "execution_count": 7,
   "metadata": {},
   "outputs": [],
   "source": [
    "X_train,X_test, y_train,y_test = train_test_split(X,y, test_size=0.3, stratify=y, random_state=42)\n",
    "scalar = StandardScaler()\n",
    "X_train_std = scalar.fit_transform(X_train)"
   ]
  },
  {
   "cell_type": "code",
   "execution_count": 8,
   "metadata": {},
   "outputs": [
    {
     "data": {
      "text/plain": [
       "(123, 13)"
      ]
     },
     "execution_count": 8,
     "metadata": {},
     "output_type": "execute_result"
    }
   ],
   "source": [
    "X_train_std.shape"
   ]
  },
  {
   "cell_type": "code",
   "execution_count": 9,
   "metadata": {},
   "outputs": [
    {
     "name": "stdout",
     "output_type": "stream",
     "text": [
      "MV 1:[ 0.9563 -0.3581  0.3239 -0.7331  0.3998  0.8919  1.0292 -0.5187  0.5063\n",
      "  0.2348  0.4989  0.7458  1.2222]\n",
      "\n",
      "MV 2:[-0.8901 -0.346  -0.5112  0.214  -0.3082 -0.0644  0.0226 -0.0536  0.1373\n",
      " -0.8707  0.4444  0.2998 -0.7028]\n",
      "\n",
      "MV 3:[ 0.1578  0.92    0.3556  0.554  -0.0262 -0.9565 -1.2434  0.6875 -0.7934\n",
      "  0.9786 -1.2274 -1.3095 -0.4251]\n",
      "\n"
     ]
    }
   ],
   "source": [
    "# Computing the scatter metrices.\n",
    "np.set_printoptions(precision=4)\n",
    "mean_vecs = []\n",
    "for label in range(1,4):\n",
    "    mean_vecs.append(np.mean(X_train_std[y_train==label], axis=0))\n",
    "    print(f'MV {label}:{mean_vecs[label - 1]}\\n')"
   ]
  },
  {
   "cell_type": "code",
   "execution_count": 10,
   "metadata": {},
   "outputs": [
    {
     "name": "stdout",
     "output_type": "stream",
     "text": [
      "With in class Scatter matrix :13x13\n"
     ]
    }
   ],
   "source": [
    "d = 13 # number of features\n",
    "S_W = np.zeros((d,d))\n",
    "for label, mv in zip(range(1,4),mean_vecs):\n",
    "    class_scatter = np.zeros((d,d))\n",
    "    for row in X_train_std[y_train == label]:\n",
    "        row, mv = row.reshape(d,1),mv.reshape(d,1)\n",
    "        class_scatter += (row-mv).dot((row-mv).T)\n",
    "    S_W += class_scatter\n",
    "print('With in class Scatter matrix :'f\"{S_W.shape[0]}x{S_W.shape[1]}\")\n"
   ]
  },
  {
   "cell_type": "code",
   "execution_count": 11,
   "metadata": {},
   "outputs": [
    {
     "data": {
      "text/plain": [
       "array([[ 46.751 ,   0.842 ,   4.5103,   3.2555,   4.7821,   7.7252,\n",
       "          7.9127,  -7.3758,   8.0729,  16.6941,   0.4781,   4.2416,\n",
       "          5.902 ],\n",
       "       [  0.842 ,  83.2294,   5.9811,  14.1481,  -3.5158,  -3.3138,\n",
       "          0.824 ,   9.0153,  -1.3767, -16.7844, -16.8482,   1.2978,\n",
       "         -6.7995],\n",
       "       [  4.5103,   5.9811, 101.7014,  66.8824,  14.9552,  14.5257,\n",
       "         11.2129,  23.9506,   5.9773,  -1.4283,   8.4904,   6.0176,\n",
       "          0.1249],\n",
       "       [  3.2555,  14.1481,  66.8824,  88.8235,  11.227 ,  12.0058,\n",
       "          7.0824,  13.5887,   2.2402,  -3.4278,  -0.1516,   9.9143,\n",
       "         -4.5726],\n",
       "       [  4.7821,  -3.5158,  14.9552,  11.227 , 111.9263,   5.527 ,\n",
       "          1.2649, -25.0904,  28.2448,   3.4773,   4.7902,  -5.0105,\n",
       "         13.6756],\n",
       "       [  7.7252,  -3.3138,  14.5257,  12.0058,   5.527 ,  59.8652,\n",
       "         28.9289,  -9.2706,  31.8521,  14.9847,   3.2337,  17.2698,\n",
       "          3.5887],\n",
       "       [  7.9127,   0.824 ,  11.2129,   7.0824,   1.2649,  28.9289,\n",
       "         28.0344, -12.5089,  25.3015,  13.3594,   1.2397,   8.7489,\n",
       "          0.7185],\n",
       "       [ -7.3758,   9.0153,  23.9506,  13.5887, -25.0904,  -9.2706,\n",
       "        -12.5089,  96.0282,  -7.8879,  -3.3359,   7.336 , -10.7931,\n",
       "         -4.1799],\n",
       "       [  8.0729,  -1.3767,   5.9773,   2.2402,  28.2448,  31.8521,\n",
       "         25.3015,  -7.8879,  90.4188,  23.4854,   2.433 ,   4.6231,\n",
       "         12.9846],\n",
       "       [ 16.6941, -16.7844,  -1.4283,  -3.4278,   3.4773,  14.9847,\n",
       "         13.3594,  -3.3359,  23.4854,  51.0814, -10.8453,  -5.3013,\n",
       "          8.7966],\n",
       "       [  0.4781, -16.8482,   8.4904,  -0.1516,   4.7902,   3.2337,\n",
       "          1.2397,   7.336 ,   2.433 , -10.8453,  52.1478,   1.4415,\n",
       "          5.4176],\n",
       "       [  4.2416,   1.2978,   6.0176,   9.9143,  -5.0105,  17.2698,\n",
       "          8.7489, -10.7931,   4.6231,  -5.3013,   1.4415,  38.0424,\n",
       "         -2.3843],\n",
       "       [  5.902 ,  -6.7995,   0.1249,  -4.5726,  13.6756,   3.5887,\n",
       "          0.7185,  -4.1799,  12.9846,   8.7966,   5.4176,  -2.3843,\n",
       "         32.9023]])"
      ]
     },
     "execution_count": 11,
     "metadata": {},
     "output_type": "execute_result"
    }
   ],
   "source": [
    "S_W"
   ]
  },
  {
   "cell_type": "code",
   "execution_count": 12,
   "metadata": {},
   "outputs": [
    {
     "name": "stdout",
     "output_type": "stream",
     "text": [
      "class_ label distribution : [40 49 34]\n"
     ]
    }
   ],
   "source": [
    "print(\"class_ label distribution :\", np.bincount(y_train)[1:])"
   ]
  },
  {
   "cell_type": "code",
   "execution_count": 13,
   "metadata": {},
   "outputs": [
    {
     "name": "stdout",
     "output_type": "stream",
     "text": [
      "Scaled within-class scatter matrix: 13x13\n"
     ]
    }
   ],
   "source": [
    "# Computing the Scaled Scatter metrices\n",
    "d = 13\n",
    "S_W = np.zeros((d,d))\n",
    "for label,mv in zip(range(1,4), mean_vecs):\n",
    "    class_scatter = np.cov(X_train_std[y_train==label].T)\n",
    "    S_W += class_scatter\n",
    "print('Scaled within-class scatter matrix: 'f\"{S_W.shape[0]}x{S_W.shape[1]}\")"
   ]
  },
  {
   "cell_type": "code",
   "execution_count": 14,
   "metadata": {},
   "outputs": [
    {
     "data": {
      "text/plain": [
       "array([[ 1.1617, -0.0142,  0.1291,  0.065 ,  0.1228,  0.2117,  0.1962,\n",
       "        -0.18  ,  0.2554,  0.4471,  0.0095,  0.109 ,  0.1541],\n",
       "       [-0.0142,  2.0475,  0.1259,  0.3119, -0.0902, -0.1305, -0.0152,\n",
       "         0.1877, -0.1336, -0.4702, -0.3488,  0.007 , -0.1517],\n",
       "       [ 0.1291,  0.1259,  2.4305,  1.5984,  0.3983,  0.3742,  0.2478,\n",
       "         0.5582,  0.1476, -0.038 ,  0.2352,  0.148 , -0.0117],\n",
       "       [ 0.065 ,  0.3119,  1.5984,  2.1236,  0.3278,  0.3058,  0.1526,\n",
       "         0.3066,  0.0767, -0.074 ,  0.0099,  0.2051, -0.1201],\n",
       "       [ 0.1228, -0.0902,  0.3983,  0.3278,  2.577 ,  0.1312,  0.0641,\n",
       "        -0.5975,  0.6016,  0.0981,  0.1058, -0.1196,  0.2703],\n",
       "       [ 0.2117, -0.1305,  0.3742,  0.3058,  0.1312,  1.4102,  0.6493,\n",
       "        -0.1379,  0.7892,  0.4226,  0.0621,  0.3816,  0.0943],\n",
       "       [ 0.1962, -0.0152,  0.2478,  0.1526,  0.0641,  0.6493,  0.6478,\n",
       "        -0.3305,  0.6013,  0.3588,  0.0139,  0.1619,  0.0215],\n",
       "       [-0.18  ,  0.1877,  0.5582,  0.3066, -0.5975, -0.1379, -0.3305,\n",
       "         2.4273, -0.1532, -0.0955,  0.2157, -0.1928, -0.0567],\n",
       "       [ 0.2554, -0.1336,  0.1476,  0.0767,  0.6016,  0.7892,  0.6013,\n",
       "        -0.1532,  2.185 ,  0.6963,  0.0154,  0.0796,  0.3036],\n",
       "       [ 0.4471, -0.4702, -0.038 , -0.074 ,  0.0981,  0.4226,  0.3588,\n",
       "        -0.0955,  0.6963,  1.4367, -0.3192, -0.1312,  0.2252],\n",
       "       [ 0.0095, -0.3488,  0.2352,  0.0099,  0.1058,  0.0621,  0.0139,\n",
       "         0.2157,  0.0154, -0.3192,  1.2114,  0.0412,  0.1384],\n",
       "       [ 0.109 ,  0.007 ,  0.148 ,  0.2051, -0.1196,  0.3816,  0.1619,\n",
       "        -0.1928,  0.0796, -0.1312,  0.0412,  0.8919, -0.0571],\n",
       "       [ 0.1541, -0.1517, -0.0117, -0.1201,  0.2703,  0.0943,  0.0215,\n",
       "        -0.0567,  0.3036,  0.2252,  0.1384, -0.0571,  0.8058]])"
      ]
     },
     "execution_count": 14,
     "metadata": {},
     "output_type": "execute_result"
    }
   ],
   "source": [
    "S_W"
   ]
  },
  {
   "cell_type": "code",
   "execution_count": 15,
   "metadata": {},
   "outputs": [
    {
     "data": {
      "text/plain": [
       "array([[-5.0863e-16],\n",
       "       [-3.0689e-16],\n",
       "       [-1.7461e-15],\n",
       "       [-2.7169e-16],\n",
       "       [-3.0576e-16],\n",
       "       [ 4.5312e-16],\n",
       "       [ 2.7417e-16],\n",
       "       [ 1.3088e-16],\n",
       "       [-4.6959e-16],\n",
       "       [ 4.6936e-16],\n",
       "       [ 3.0689e-16],\n",
       "       [-7.7445e-16],\n",
       "       [ 7.7625e-17]])"
      ]
     },
     "execution_count": 15,
     "metadata": {},
     "output_type": "execute_result"
    }
   ],
   "source": [
    "# Computing the Between Class Scatter matrix\n",
    "mean_overall = np.mean(X_train_std, axis=0)\n",
    "mean_overall = mean_overall.reshape(d,1)\n",
    "mean_overall"
   ]
  },
  {
   "cell_type": "code",
   "execution_count": 16,
   "metadata": {},
   "outputs": [
    {
     "name": "stdout",
     "output_type": "stream",
     "text": [
      "Between Class Scatter matrix: 13x13\n"
     ]
    }
   ],
   "source": [
    "d = 13 # number of features\n",
    "S_B = np.zeros((d,d))\n",
    "for i,mean_vec in enumerate(mean_vecs):\n",
    "    n = X_train_std[y_train == i+1, :].shape[0]\n",
    "    mean_vec = mean_vec.reshape(d,1) # make column vector\n",
    "    S_B += n*(mean_vec-mean_overall).dot((mean_vec-mean_overall).T)\n",
    "\n",
    "print(\"Between Class Scatter matrix: \"f\"{S_B.shape[0]}x{S_B.shape[1]}\")\n"
   ]
  },
  {
   "cell_type": "markdown",
   "metadata": {},
   "source": [
    "The remaining  step of the LDA are similar to the steps of the PCA. However, instead of performing eigen decomposition on the covarience matrix, we solve the generalized eigenvalue problem of the matrix, $ S_W^{-1}S_B $"
   ]
  },
  {
   "cell_type": "code",
   "execution_count": 17,
   "metadata": {},
   "outputs": [],
   "source": [
    "# Selecting linear discriminants for the new feature subspace\n",
    "eigen_vals, eigen_vecs = np.linalg.eig(np.linalg.inv(S_W.dot(S_B)))"
   ]
  },
  {
   "cell_type": "code",
   "execution_count": 18,
   "metadata": {},
   "outputs": [
    {
     "name": "stdout",
     "output_type": "stream",
     "text": [
      "EigenValues in descending order: \n",
      "\n",
      "156951375960028.7\n",
      "53242383354302.84\n",
      "53242383354302.84\n",
      "51430948407882.555\n",
      "51430948407882.555\n",
      "22313155928264.62\n",
      "20633864085058.0\n",
      "20633864085058.0\n",
      "0.010942563450014188\n",
      "26011678050236.055\n",
      "26011678050236.055\n",
      "24556841735513.914\n",
      "0.0111083984375\n"
     ]
    }
   ],
   "source": [
    "eigen_pairs = [(np.abs(eigen_vals[i]), eigen_vecs[:,i]) for i in range(len(eigen_vals))]\n",
    "eigen_vecs = sorted(eigen_pairs, key=lambda k:k[0], reverse=True)\n",
    "print('EigenValues in descending order: \\n')\n",
    "for eigen_val in eigen_pairs:\n",
    "    print(eigen_val[0])"
   ]
  },
  {
   "cell_type": "markdown",
   "metadata": {},
   "source": [
    " In LDA, the number of linear discriminant is at most c-1 where c is the number of class labels.\n",
    " TO measure how much of the class-discriminatory information is captured by the linear discriminants(eigenvectors), let's plot the linear discriminants by decreasing eigenvalues, for simplicity we will call the content of class-descriminatory information descriminability:"
   ]
  },
  {
   "cell_type": "code",
   "execution_count": 19,
   "metadata": {},
   "outputs": [],
   "source": [
    "tot = sum(eigen_vals.real)"
   ]
  },
  {
   "cell_type": "code",
   "execution_count": 20,
   "metadata": {},
   "outputs": [
    {
     "data": {
      "image/png": "[encoded data removed]",
      "text/plain": [
       "<Figure size 640x480 with 1 Axes>"
      ]
     },
     "metadata": {},
     "output_type": "display_data"
    }
   ],
   "source": [
    "discr = [(i/tot) for i in sorted(eigen_vals.real, reverse=True)]\n",
    "cum_discr = np.cumsum(discr)\n",
    "plt.bar(range(1,14), discr, align='center', label=\"individual discriminability\")\n",
    "plt.step(range(1,14),cum_discr, where='mid',label='Cumulative Discriminability')\n",
    "plt.ylabel('Discriminability Ratio')\n",
    "plt.xlabel('Linear Descriminants')\n",
    "plt.ylim([-0.1, 2])\n",
    "plt.legend(loc='best')\n",
    "plt.tight_layout()\n",
    "plt.show()"
   ]
  },
  {
   "cell_type": "code",
   "execution_count": 21,
   "metadata": {},
   "outputs": [
    {
     "name": "stdout",
     "output_type": "stream",
     "text": [
      "Matrix w: \n",
      " [[ 0.2126  0.1176]\n",
      " [-0.3474 -0.4363]\n",
      " [ 0.467   0.2855]\n",
      " [ 0.0118 -0.1513]\n",
      " [ 0.1045 -0.5987]\n",
      " [-0.1538 -0.1975]\n",
      " [-0.443  -0.1931]\n",
      " [ 0.0937 -0.054 ]\n",
      " [ 0.4842  0.1185]\n",
      " [ 0.0456  0.1477]\n",
      " [ 0.1199  0.0726]\n",
      " [ 0.2134  0.0093]\n",
      " [-0.2825 -0.0193]]\n"
     ]
    }
   ],
   "source": [
    "# let's now stack the most descriminative eigenvector columns to create the transformation matrix, W\n",
    "w = np.hstack((eigen_pairs[0][1][:, np.newaxis].real, eigen_pairs[1][1][:, np.newaxis].real))\n",
    "print('Matrix w: \\n', w)"
   ]
  },
  {
   "cell_type": "code",
   "execution_count": 22,
   "metadata": {},
   "outputs": [
    {
     "data": {
      "image/png": "[encoded data removed]",
      "text/plain": [
       "<Figure size 640x480 with 1 Axes>"
      ]
     },
     "metadata": {},
     "output_type": "display_data"
    }
   ],
   "source": [
    "# Projecting examples onto the new feature space.\n",
    "# X' = XW\\\n",
    "X_train_lda = X_train_std.dot(w)\n",
    "colors = ['r','g','b']\n",
    "markers = ['o', 's','^']\n",
    "for l,c,m in zip(np.unique(y_train), colors, markers):\n",
    "    plt.scatter(X_train_lda[y_train==l, 0],\n",
    "                X_train_lda[y_train==l, 1]*(-1),\n",
    "                c=c, label=f\"Class {l}\", marker=m)\n",
    "    \n",
    "plt.xlabel('ld 1')\n",
    "plt.ylabel('ld 2')\n",
    "plt.legend(loc='lower right')\n",
    "plt.tight_layout()\n",
    "plt.show()"
   ]
  },
  {
   "cell_type": "code",
   "execution_count": null,
   "metadata": {},
   "outputs": [],
   "source": []
  }
 ],
 "metadata": {
  "kernelspec": {
   "display_name": ".venv",
   "language": "python",
   "name": "python3"
  },
  "language_info": {
   "codemirror_mode": {
    "name": "ipython",
    "version": 3
   },
   "file_extension": ".py",
   "mimetype": "text/x-python",
   "name": "python",
   "nbconvert_exporter": "python",
   "pygments_lexer": "ipython3",
   "version": "3.10.12"
  }
 },
 "nbformat": 4,
 "nbformat_minor": 2
}
