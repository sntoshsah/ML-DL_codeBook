{
 "cells": [
  {
   "cell_type": "code",
   "execution_count": 1,
   "metadata": {},
   "outputs": [],
   "source": [
    "import torchvision\n",
    "from torchvision import transforms\n",
    "import torch\n",
    "from torch.utils.data import DataLoader\n",
    "import torch.nn as nn"
   ]
  },
  {
   "cell_type": "code",
   "execution_count": 2,
   "metadata": {},
   "outputs": [],
   "source": [
    "IMG_PATH = \"./mnist_images/\""
   ]
  },
  {
   "cell_type": "code",
   "execution_count": 3,
   "metadata": {},
   "outputs": [],
   "source": [
    "transform = transforms.Compose([\n",
    "\ttransforms.ToTensor()\n",
    "])"
   ]
  },
  {
   "cell_type": "code",
   "execution_count": 4,
   "metadata": {},
   "outputs": [],
   "source": [
    "mnist_train_dataset = torchvision.datasets.MNIST(\n",
    "\troot=IMG_PATH, train=True, transform=transform, download=True\n",
    ")\n",
    "mnist_test_dataset = torchvision.datasets.MNIST(\n",
    "\troot=IMG_PATH, train=False, transform=transform, download=True\n",
    ")"
   ]
  },
  {
   "cell_type": "code",
   "execution_count": 5,
   "metadata": {},
   "outputs": [],
   "source": [
    "batch_size = 32\n",
    "torch.manual_seed(1)\n",
    "train_dl = DataLoader(mnist_train_dataset, batch_size=batch_size, shuffle=True)"
   ]
  },
  {
   "cell_type": "code",
   "execution_count": 6,
   "metadata": {},
   "outputs": [
    {
     "data": {
      "text/plain": [
       "Sequential(\n",
       "  (0): Flatten(start_dim=1, end_dim=-1)\n",
       "  (1): Linear(in_features=784, out_features=32, bias=True)\n",
       "  (2): ReLU()\n",
       "  (3): Linear(in_features=32, out_features=16, bias=True)\n",
       "  (4): ReLU()\n",
       "  (5): Linear(in_features=16, out_features=10, bias=True)\n",
       ")"
      ]
     },
     "execution_count": 6,
     "metadata": {},
     "output_type": "execute_result"
    }
   ],
   "source": [
    "hidden_units = [32,16]\n",
    "img_size = mnist_test_dataset[0][0].shape\n",
    "input_size = img_size[0]*img_size[1]* img_size[2]\n",
    "all_layers = [nn.Flatten()]\n",
    "for hidden_unit in hidden_units:\n",
    "\tlayer = nn.Linear(input_size, hidden_unit)\n",
    "\tall_layers.append(layer)\n",
    "\tall_layers.append(nn.ReLU())\n",
    "\tinput_size = hidden_unit\n",
    "\n",
    "all_layers.append(nn.Linear(hidden_units[-1], 10))\n",
    "\n",
    "model = nn.Sequential(*all_layers)\n",
    "model\n"
   ]
  },
  {
   "cell_type": "code",
   "execution_count": 7,
   "metadata": {},
   "outputs": [
    {
     "data": {
      "text/plain": [
       "Sequential(\n",
       "  (0): Flatten(start_dim=1, end_dim=-1)\n",
       "  (1): Linear(in_features=784, out_features=32, bias=True)\n",
       "  (2): ReLU()\n",
       "  (3): Linear(in_features=32, out_features=16, bias=True)\n",
       "  (4): ReLU()\n",
       "  (5): Linear(in_features=16, out_features=10, bias=True)\n",
       ")"
      ]
     },
     "execution_count": 7,
     "metadata": {},
     "output_type": "execute_result"
    }
   ],
   "source": [
    "model"
   ]
  },
  {
   "cell_type": "code",
   "execution_count": 8,
   "metadata": {},
   "outputs": [
    {
     "name": "stdout",
     "output_type": "stream",
     "text": [
      "Epoch: 0 Accuracy:  0.8762\n",
      "Epoch: 1 Accuracy:  0.9379\n",
      "Epoch: 2 Accuracy:  0.9493\n",
      "Epoch: 3 Accuracy:  0.9564\n",
      "Epoch: 4 Accuracy:  0.9603\n",
      "Epoch: 5 Accuracy:  0.9640\n",
      "Epoch: 6 Accuracy:  0.9673\n",
      "Epoch: 7 Accuracy:  0.9699\n",
      "Epoch: 8 Accuracy:  0.9717\n",
      "Epoch: 9 Accuracy:  0.9736\n",
      "Epoch: 10 Accuracy:  0.9752\n",
      "Epoch: 11 Accuracy:  0.9764\n",
      "Epoch: 12 Accuracy:  0.9777\n",
      "Epoch: 13 Accuracy:  0.9779\n",
      "Epoch: 14 Accuracy:  0.9797\n",
      "Epoch: 15 Accuracy:  0.9811\n",
      "Epoch: 16 Accuracy:  0.9814\n",
      "Epoch: 17 Accuracy:  0.9826\n",
      "Epoch: 18 Accuracy:  0.9825\n",
      "Epoch: 19 Accuracy:  0.9841\n"
     ]
    }
   ],
   "source": [
    "loss_fn = nn.CrossEntropyLoss()\n",
    "optimizer = torch.optim.Adam(model.parameters(),lr = 0.001)\n",
    "torch.manual_seed(1)\n",
    "num_epochs = 20\n",
    "for epoch in range(num_epochs):\n",
    "\tacc_hist_train = 0\n",
    "\tfor x_batch, y_batch in train_dl:\n",
    "\t\tpred = model(x_batch)\n",
    "\t\tloss = loss_fn(pred, y_batch)\n",
    "\t\tloss.backward()\n",
    "\t\toptimizer.step()\n",
    "\t\toptimizer.zero_grad()\n",
    "\t\tis_correct = (torch.argmax(pred,dim=1) == y_batch).float()\n",
    "\t\tacc_hist_train += is_correct.sum()\n",
    "\tacc_hist_train/=len(train_dl.dataset)\n",
    "\tprint(f\"Epoch: {epoch} Accuracy: {acc_hist_train: .4f}\")\n"
   ]
  },
  {
   "cell_type": "code",
   "execution_count": 9,
   "metadata": {},
   "outputs": [
    {
     "name": "stdout",
     "output_type": "stream",
     "text": [
      "True\n"
     ]
    }
   ],
   "source": [
    "import torch\n",
    "\n",
    "print(torch.cuda.is_available())"
   ]
  },
  {
   "cell_type": "code",
   "execution_count": 10,
   "metadata": {},
   "outputs": [
    {
     "name": "stdout",
     "output_type": "stream",
     "text": [
      "Test Accuracy: 0.9651\n"
     ]
    }
   ],
   "source": [
    "pred = model(mnist_test_dataset.data/255.0)\n",
    "is_correct = (torch.argmax(pred, dim = 1) == mnist_test_dataset.targets).float()\n",
    "print(f\"Test Accuracy: {is_correct.mean():.4f}\")"
   ]
  }
 ],
 "metadata": {
  "kernelspec": {
   "display_name": ".venv",
   "language": "python",
   "name": "python3"
  },
  "language_info": {
   "codemirror_mode": {
    "name": "ipython",
    "version": 3
   },
   "file_extension": ".py",
   "mimetype": "text/x-python",
   "name": "python",
   "nbconvert_exporter": "python",
   "pygments_lexer": "ipython3",
   "version": "3.10.12"
  }
 },
 "nbformat": 4,
 "nbformat_minor": 2
}
